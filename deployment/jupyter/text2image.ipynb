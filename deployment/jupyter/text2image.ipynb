{
 "cells": [
  {
   "cell_type": "code",
   "execution_count": 1,
   "id": "31814706",
   "metadata": {},
   "outputs": [
    {
     "name": "stderr",
     "output_type": "stream",
     "text": [
      "/usr/local/lib/python3.12/dist-packages/tqdm/auto.py:21: TqdmWarning: IProgress not found. Please update jupyter and ipywidgets. See https://ipywidgets.readthedocs.io/en/stable/user_install.html\n",
      "  from .autonotebook import tqdm as notebook_tqdm\n"
     ]
    },
    {
     "name": "stdout",
     "output_type": "stream",
     "text": [
      "[\u001b[32m08-19 19:04:21\u001b[0m|\u001b[1mINFO\u001b[0m|\u001b[36m../server/model_specific/text2image_worker.py:84:__init__\u001b[0m] Using model size: 2B\n",
      "[\u001b[32m08-19 19:04:21\u001b[0m|\u001b[1mINFO\u001b[0m|\u001b[36m../server/model_specific/text2image_worker.py:98:__init__\u001b[0m] Using dit_path: /mnt/pvc/checkp_seg/cosmos-predict2/nvidia/Cosmos-Predict2-2B-Text2Image/model.pt\n",
      "[\u001b[32m08-19 19:04:21\u001b[0m|\u001b[1mINFO\u001b[0m|\u001b[36m../server/model_specific/text2image_worker.py:102:__init__\u001b[0m] Using text encoder from: /mnt/pvc/checkp_seg/cosmos-predict2/google-t5/t5-11b\n",
      "[\u001b[32m08-19 19:04:21\u001b[0m|\u001b[1mINFO\u001b[0m|\u001b[36m../server/model_specific/text2image_worker.py:134:__init__\u001b[0m] Initializing Text2ImagePipeline with model size: 2B\n",
      "[\u001b[32m08-19 19:04:21\u001b[0m|\u001b[33m\u001b[1mWARNING\u001b[0m|\u001b[36m../../cosmos_predict2/pipelines/text2image.py:104:from_config\u001b[0m] precision torch.bfloat16\n",
      "[\u001b[32m08-19 19:04:22\u001b[0m|\u001b[1mINFO\u001b[0m|\u001b[36m../../cosmos_predict2/tokenizers/tokenizer.py:599:_video_vae\u001b[0m] Loading /mnt/pvc/checkp_seg/cosmos-predict2/nvidia/Cosmos-Predict2-2B-Text2Image/tokenizer/tokenizer.pth\n",
      "[\u001b[32m08-19 19:04:22\u001b[0m|\u001b[32m\u001b[1mSUCCESS\u001b[0m|\u001b[36m../../cosmos_predict2/tokenizers/tokenizer.py:601:_video_vae\u001b[0m] Successfully loaded /mnt/pvc/checkp_seg/cosmos-predict2/nvidia/Cosmos-Predict2-2B-Text2Image/tokenizer/tokenizer.pth\n",
      "[\u001b[32m08-19 19:05:29\u001b[0m|\u001b[1mINFO\u001b[0m|\u001b[36m../../cosmos_predict2/pipelines/text2image.py:153:from_config\u001b[0m] Loading DiT from /mnt/pvc/checkp_seg/cosmos-predict2/nvidia/Cosmos-Predict2-2B-Text2Image/model.pt\n",
      "[\u001b[32m08-19 19:05:35\u001b[0m|\u001b[32m\u001b[1mSUCCESS\u001b[0m|\u001b[36m../../cosmos_predict2/pipelines/text2image.py:172:from_config\u001b[0m] Successfully loaded DiT from /mnt/pvc/checkp_seg/cosmos-predict2/nvidia/Cosmos-Predict2-2B-Text2Image/model.pt\n"
     ]
    }
   ],
   "source": [
    "from deployment.server.model_specific.text2image_worker import Text2Image_Validator, Text2Image_Worker\n",
    "import os\n",
    "\n",
    "#os.chdir(\"../../\")\n",
    "\n",
    "validator = Text2Image_Validator()\n",
    "pipeline = Text2Image_Worker(num_gpus=1, checkpoint_dir=\"/mnt/pvc/checkp_seg/cosmos-predict2\")"
   ]
  },
  {
   "cell_type": "code",
   "execution_count": 2,
   "id": "490f89df",
   "metadata": {},
   "outputs": [
    {
     "name": "stdout",
     "output_type": "stream",
     "text": [
      "[\u001b[32m08-19 19:09:08\u001b[0m|\u001b[1mINFO\u001b[0m|\u001b[36m../server/model_specific/text2image_worker.py:71:parse_and_validate\u001b[0m] {\n",
      "    \"prompt\": \"A nighttime city bus terminal gradually shifts from stillness to subtle movement. At first, multiple double-decker buses are parked under the glow of overhead lights, with a central bus labeled '87D' facing forward and stationary. As the video progresses, the bus in the middle moves ahead slowly, its headlights brightening the surrounding area and casting reflections onto adjacent vehicles. The motion creates space in the lineup, signaling activity within the otherwise quiet station. It then comes to a smooth stop, resuming its position in line. Overhead signage in Chinese characters remains illuminated, enhancing the vibrant, urban night scene.\",\n",
      "    \"negative_prompt\": \"\",\n",
      "    \"aspect_ratio\": \"16:9\",\n",
      "    \"seed\": 0,\n",
      "    \"output_dir\": \"outputs/\"\n",
      "}\n",
      "[\u001b[32m08-19 19:09:08\u001b[0m|\u001b[1mINFO\u001b[0m|\u001b[36m../server/model_specific/text2image_worker.py:154:_infer\u001b[0m] Running Text2ImagePipeline\n",
      "prompt: A nighttime city bus terminal gradually shifts from stillness to subtle movement. At first, multiple double-decker buses are parked under the glow of overhead lights, with a central bus labeled '87D' facing forward and stationary. As the video progresses, the bus in the middle moves ahead slowly, its headlights brightening the surrounding area and casting reflections onto adjacent vehicles. The motion creates space in the lineup, signaling activity within the otherwise quiet station. It then comes to a smooth stop, resuming its position in line. Overhead signage in Chinese characters remains illuminated, enhancing the vibrant, urban night scene.\n",
      "[\u001b[32m08-19 19:09:09\u001b[0m|\u001b[1mINFO\u001b[0m|\u001b[36m../../cosmos_predict2/pipelines/text2image.py:383:__call__\u001b[0m] Starting image generation...\n"
     ]
    },
    {
     "name": "stderr",
     "output_type": "stream",
     "text": [
      "                                                                 \r"
     ]
    },
    {
     "name": "stdout",
     "output_type": "stream",
     "text": [
      "[\u001b[32m08-19 19:09:14\u001b[0m|\u001b[32m\u001b[1mSUCCESS\u001b[0m|\u001b[36m../../cosmos_predict2/pipelines/text2image.py:440:__call__\u001b[0m] Image generation completed successfully\n",
      "[\u001b[32m08-19 19:09:14\u001b[0m|\u001b[1mINFO\u001b[0m|\u001b[36m../server/model_specific/text2image_worker.py:168:_infer\u001b[0m] Saving generated image to: outputs/output.jpg\n",
      "[\u001b[32m08-19 19:09:14\u001b[0m|\u001b[32m\u001b[1mSUCCESS\u001b[0m|\u001b[36m../server/model_specific/text2image_worker.py:170:_infer\u001b[0m] Successfully saved image to: outputs/output.jpg\n",
      "[\u001b[32m08-19 19:09:14\u001b[0m|\u001b[32m\u001b[1mSUCCESS\u001b[0m|\u001b[36m../server/model_specific/text2image_worker.py:175:_infer\u001b[0m] Successfully saved prompt file to: outputs/output.txt\n"
     ]
    }
   ],
   "source": [
    "prompt = \"A nighttime city bus terminal gradually shifts from stillness to subtle movement. At first, multiple double-decker buses are parked under the glow of overhead lights, with a central bus labeled '87D' facing forward and stationary. As the video progresses, the bus in the middle moves ahead slowly, its headlights brightening the surrounding area and casting reflections onto adjacent vehicles. The motion creates space in the lineup, signaling activity within the otherwise quiet station. It then comes to a smooth stop, resuming its position in line. Overhead signage in Chinese characters remains illuminated, enhancing the vibrant, urban night scene.\"\n",
    "\n",
    "model_params = validator.parse_and_validate({\"prompt\": prompt})\n",
    "pipeline.infer(model_params)"
   ]
  }
 ],
 "metadata": {
  "kernelspec": {
   "display_name": "Python 3",
   "language": "python",
   "name": "python3"
  },
  "language_info": {
   "codemirror_mode": {
    "name": "ipython",
    "version": 3
   },
   "file_extension": ".py",
   "mimetype": "text/x-python",
   "name": "python",
   "nbconvert_exporter": "python",
   "pygments_lexer": "ipython3",
   "version": "3.12.3"
  }
 },
 "nbformat": 4,
 "nbformat_minor": 5
}
