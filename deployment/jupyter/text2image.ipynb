{
 "cells": [
  {
   "cell_type": "code",
   "execution_count": null,
   "id": "31814706",
   "metadata": {},
   "outputs": [],
   "source": [
    "from deployment.server.model_specific.text2image_worker import Text2Image_Validator, Text2Image_Worker\n",
    "\n",
    "validator = Text2Image_Validator()\n",
    "pipeline = Text2Image_Worker(num_gpus=1, checkpoint_dir=\"/mnt/pvc/checkp_seg/cosmos-predict2\")"
   ]
  },
  {
   "cell_type": "code",
   "execution_count": null,
   "id": "490f89df",
   "metadata": {},
   "outputs": [],
   "source": [
    "prompt = \"A nighttime city bus terminal gradually shifts from stillness to subtle movement. At first, multiple double-decker buses are parked under the glow of overhead lights, with a central bus labeled '87D' facing forward and stationary. As the video progresses, the bus in the middle moves ahead slowly, its headlights brightening the surrounding area and casting reflections onto adjacent vehicles. The motion creates space in the lineup, signaling activity within the otherwise quiet station. It then comes to a smooth stop, resuming its position in line. Overhead signage in Chinese characters remains illuminated, enhancing the vibrant, urban night scene.\"\n",
    "\n",
    "model_params = validator.parse_and_validate({\"prompt\": prompt})\n",
    "pipeline.infer(model_params)"
   ]
  }
 ],
 "metadata": {
  "kernelspec": {
   "display_name": "Python 3",
   "language": "python",
   "name": "python3"
  },
  "language_info": {
   "codemirror_mode": {
    "name": "ipython",
    "version": 3
   },
   "file_extension": ".py",
   "mimetype": "text/x-python",
   "name": "python",
   "nbconvert_exporter": "python",
   "pygments_lexer": "ipython3",
   "version": "3.12.3"
  }
 },
 "nbformat": 4,
 "nbformat_minor": 5
}
